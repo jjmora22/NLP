{
  "nbformat": 4,
  "nbformat_minor": 0,
  "metadata": {
    "colab": {
      "provenance": [],
      "authorship_tag": "ABX9TyN75TSdyFNRpelGq1YCUPIn",
      "include_colab_link": true
    },
    "kernelspec": {
      "name": "python3",
      "display_name": "Python 3"
    },
    "language_info": {
      "name": "python"
    }
  },
  "cells": [
    {
      "cell_type": "markdown",
      "metadata": {
        "id": "view-in-github",
        "colab_type": "text"
      },
      "source": [
        "<a href=\"https://colab.research.google.com/github/jjmora22/NLP/blob/Codigo_Notebooks/3_training_testing.ipynb\" target=\"_parent\"><img src=\"https://colab.research.google.com/assets/colab-badge.svg\" alt=\"Open In Colab\"/></a>"
      ]
    },
    {
      "cell_type": "markdown",
      "source": [
        "Utilizaré las siguientes librerías -->"
      ],
      "metadata": {
        "id": "lfv3bBtyZHMR"
      }
    },
    {
      "cell_type": "markdown",
      "source": [],
      "metadata": {
        "id": "6knKYNhEZuMp"
      }
    },
    {
      "cell_type": "code",
      "source": [
        "import pandas as pd # Manipulación de datasets\n",
        "import numpy as np # Manejo de matrices (arrays)\n",
        "import matplotlib.pyplot as plt # Herramientas para graficar\n",
        "import seaborn as sns # Mejora la estética y permite mayor complejidad en las gráficas\n",
        "import pickle # Permite guardar/recuperar del disco el modelo Random Forest que vamos a utilizar\n",
        "import joblib # Para aprovechar en paralelo el CPU (espero!)\n",
        "from sklearn.model_selection import train_test_split # Permite dividir el dataset en train/test\n",
        "from sklearn.feature_extraction.text import CountVectorizer, TfidfVectorizer # Convierte el texto en matriz de número de tokens y matriz de frecuencia/frecuencia inversa\n",
        "from sklearn.metrics import confusion_matrix, classification_report, accuracy_score, mean_squared_error # Caulcula la matriz de confusión para problemas de clasificación, el accuracy y el error cuadrático medio\n",
        "from sklearn.pipeline import Pipeline # Enlaza diferentes pasos en un \"workflow\"\n",
        "from sklearn.naive_bayes import MultinomialNB # Sirve para entrenar usando Naive Bayes\n",
        "from sklearn.linear_model import LogisticRegression # Sirve para entrenar modelos de regresión logística\n",
        "from sklearn.ensemble import RandomForestClassifier # Sirve para entrenar modelos random forest \n",
        "from sklearn.model_selection import GridSearchCV # Realiza una \"grid search\" para encontrar la mejor relación de hiperparámetros en un modelo\n",
        "from joblib import dump\n"
      ],
      "metadata": {
        "id": "2-fNA1u6Zuqm"
      },
      "execution_count": null,
      "outputs": []
    },
    {
      "cell_type": "markdown",
      "source": [
        "Para usar el GPU utilizaré"
      ],
      "metadata": {
        "id": "0ZHNaZN1qW9e"
      }
    },
    {
      "cell_type": "code",
      "source": [
        "!pip install scikit-learn-intelex"
      ],
      "metadata": {
        "colab": {
          "base_uri": "https://localhost:8080/"
        },
        "id": "QvtLun7NupC5",
        "outputId": "e29a5969-1d78-4e17-de79-8a61688b53cb"
      },
      "execution_count": null,
      "outputs": [
        {
          "output_type": "stream",
          "name": "stdout",
          "text": [
            "Looking in indexes: https://pypi.org/simple, https://us-python.pkg.dev/colab-wheels/public/simple/\n",
            "Collecting scikit-learn-intelex\n",
            "  Downloading scikit_learn_intelex-2023.0.1-py39-none-manylinux1_x86_64.whl (83 kB)\n",
            "\u001b[2K     \u001b[90m━━━━━━━━━━━━━━━━━━━━━━━━━━━━━━━━━━━━━━━━\u001b[0m \u001b[32m83.0/83.0 KB\u001b[0m \u001b[31m5.3 MB/s\u001b[0m eta \u001b[36m0:00:00\u001b[0m\n",
            "\u001b[?25hRequirement already satisfied: scikit-learn>=0.22 in /usr/local/lib/python3.9/dist-packages (from scikit-learn-intelex) (1.2.1)\n",
            "Collecting daal4py==2023.0.1\n",
            "  Downloading daal4py-2023.0.1-py39-none-manylinux1_x86_64.whl (12.7 MB)\n",
            "\u001b[2K     \u001b[90m━━━━━━━━━━━━━━━━━━━━━━━━━━━━━━━━━━━━━━━━\u001b[0m \u001b[32m12.7/12.7 MB\u001b[0m \u001b[31m91.7 MB/s\u001b[0m eta \u001b[36m0:00:00\u001b[0m\n",
            "\u001b[?25hCollecting daal==2023.0.1\n",
            "  Downloading daal-2023.0.1-py2.py3-none-manylinux1_x86_64.whl (85.5 MB)\n",
            "\u001b[2K     \u001b[90m━━━━━━━━━━━━━━━━━━━━━━━━━━━━━━━━━━━━━━━━\u001b[0m \u001b[32m85.5/85.5 MB\u001b[0m \u001b[31m11.6 MB/s\u001b[0m eta \u001b[36m0:00:00\u001b[0m\n",
            "\u001b[?25hRequirement already satisfied: numpy>=1.15 in /usr/local/lib/python3.9/dist-packages (from daal4py==2023.0.1->scikit-learn-intelex) (1.22.4)\n",
            "Collecting tbb==2021.*\n",
            "  Downloading tbb-2021.8.0-py2.py3-none-manylinux1_x86_64.whl (4.0 MB)\n",
            "\u001b[2K     \u001b[90m━━━━━━━━━━━━━━━━━━━━━━━━━━━━━━━━━━━━━━━━\u001b[0m \u001b[32m4.0/4.0 MB\u001b[0m \u001b[31m106.0 MB/s\u001b[0m eta \u001b[36m0:00:00\u001b[0m\n",
            "\u001b[?25hRequirement already satisfied: joblib>=1.1.1 in /usr/local/lib/python3.9/dist-packages (from scikit-learn>=0.22->scikit-learn-intelex) (1.2.0)\n",
            "Requirement already satisfied: scipy>=1.3.2 in /usr/local/lib/python3.9/dist-packages (from scikit-learn>=0.22->scikit-learn-intelex) (1.10.1)\n",
            "Requirement already satisfied: threadpoolctl>=2.0.0 in /usr/local/lib/python3.9/dist-packages (from scikit-learn>=0.22->scikit-learn-intelex) (3.1.0)\n",
            "Installing collected packages: tbb, daal, daal4py, scikit-learn-intelex\n",
            "Successfully installed daal-2023.0.1 daal4py-2023.0.1 scikit-learn-intelex-2023.0.1 tbb-2021.8.0\n"
          ]
        }
      ]
    },
    {
      "cell_type": "code",
      "source": [
        "from sklearnex import patch_sklearn # Permite el cómputo distribuido\n",
        "patch_sklearn() # Corrige errores en joblib (scikit-learn)\n"
      ],
      "metadata": {
        "colab": {
          "base_uri": "https://localhost:8080/"
        },
        "id": "zGx98_TWqUs0",
        "outputId": "8be44581-6e2a-4829-e832-5c0b43302be6"
      },
      "execution_count": null,
      "outputs": [
        {
          "output_type": "stream",
          "name": "stderr",
          "text": [
            "Intel(R) Extension for Scikit-learn* enabled (https://github.com/intel/scikit-learn-intelex)\n"
          ]
        }
      ]
    },
    {
      "cell_type": "markdown",
      "source": [
        "Manualmente, estoy cargando el archivo que generé en la práctica 2: amazon_reviews_preprocessed.csv\n",
        "\n"
      ],
      "metadata": {
        "id": "zdseMNshZvIR"
      }
    },
    {
      "cell_type": "code",
      "source": [
        "df = pd.read_csv('amazon_reviews_preprocessed.csv', header=0)"
      ],
      "metadata": {
        "id": "ZM3nHnqcZaWm"
      },
      "execution_count": null,
      "outputs": []
    },
    {
      "cell_type": "code",
      "source": [
        "df.head()"
      ],
      "metadata": {
        "colab": {
          "base_uri": "https://localhost:8080/",
          "height": 461
        },
        "id": "RlWCkTG1lwNw",
        "outputId": "6f454ac0-4c62-486b-e7a7-2bcc7146a8e2"
      },
      "execution_count": null,
      "outputs": [
        {
          "output_type": "execute_result",
          "data": {
            "text/plain": [
              "   overall  verified   reviewTime      reviewerID        asin  \\\n",
              "0        2     False   12 5, 2015  A3KUPJ396OQF78  B017O9P72A   \n",
              "1        5     False  01 15, 2018  A3TXR8GLKS19RE  B017O9P72A   \n",
              "2        1     False   01 4, 2018  A1FOHYK23FJ6CN  B017O9P72A   \n",
              "3        1     False  12 30, 2017  A1RRDX9AOST1AN  B017O9P72A   \n",
              "4        1     False  12 29, 2017   AA4DHYT5YSSIT  B017O9P72A   \n",
              "\n",
              "       reviewerName                                         reviewText  \\\n",
              "0     Larry Russlin                  control one two bulb one two echo   \n",
              "1             Nello                                        great skill   \n",
              "2  L. Ray Humphreys                     happy connect alexa regardless   \n",
              "3             Viola  connect hue light alexa linked lifx amazon ale...   \n",
              "4         angie anj  service work google home doesnt work alexa get...   \n",
              "\n",
              "                   summary  unixReviewTime  vote image  review_length  \n",
              "0                    Buggy      1449273600   NaN   NaN             55  \n",
              "1                    Great      1515974400   NaN   NaN             11  \n",
              "2  Can not connect to ECHO      1515024000   2.0   NaN             47  \n",
              "3    Connecting is a no go      1514592000   5.0   NaN            204  \n",
              "4            Does not work      1514505600   5.0   NaN            112  "
            ],
            "text/html": [
              "\n",
              "  <div id=\"df-40b022eb-9f96-4f9e-a670-9bcbfd5bcf0f\">\n",
              "    <div class=\"colab-df-container\">\n",
              "      <div>\n",
              "<style scoped>\n",
              "    .dataframe tbody tr th:only-of-type {\n",
              "        vertical-align: middle;\n",
              "    }\n",
              "\n",
              "    .dataframe tbody tr th {\n",
              "        vertical-align: top;\n",
              "    }\n",
              "\n",
              "    .dataframe thead th {\n",
              "        text-align: right;\n",
              "    }\n",
              "</style>\n",
              "<table border=\"1\" class=\"dataframe\">\n",
              "  <thead>\n",
              "    <tr style=\"text-align: right;\">\n",
              "      <th></th>\n",
              "      <th>overall</th>\n",
              "      <th>verified</th>\n",
              "      <th>reviewTime</th>\n",
              "      <th>reviewerID</th>\n",
              "      <th>asin</th>\n",
              "      <th>reviewerName</th>\n",
              "      <th>reviewText</th>\n",
              "      <th>summary</th>\n",
              "      <th>unixReviewTime</th>\n",
              "      <th>vote</th>\n",
              "      <th>image</th>\n",
              "      <th>review_length</th>\n",
              "    </tr>\n",
              "  </thead>\n",
              "  <tbody>\n",
              "    <tr>\n",
              "      <th>0</th>\n",
              "      <td>2</td>\n",
              "      <td>False</td>\n",
              "      <td>12 5, 2015</td>\n",
              "      <td>A3KUPJ396OQF78</td>\n",
              "      <td>B017O9P72A</td>\n",
              "      <td>Larry Russlin</td>\n",
              "      <td>control one two bulb one two echo</td>\n",
              "      <td>Buggy</td>\n",
              "      <td>1449273600</td>\n",
              "      <td>NaN</td>\n",
              "      <td>NaN</td>\n",
              "      <td>55</td>\n",
              "    </tr>\n",
              "    <tr>\n",
              "      <th>1</th>\n",
              "      <td>5</td>\n",
              "      <td>False</td>\n",
              "      <td>01 15, 2018</td>\n",
              "      <td>A3TXR8GLKS19RE</td>\n",
              "      <td>B017O9P72A</td>\n",
              "      <td>Nello</td>\n",
              "      <td>great skill</td>\n",
              "      <td>Great</td>\n",
              "      <td>1515974400</td>\n",
              "      <td>NaN</td>\n",
              "      <td>NaN</td>\n",
              "      <td>11</td>\n",
              "    </tr>\n",
              "    <tr>\n",
              "      <th>2</th>\n",
              "      <td>1</td>\n",
              "      <td>False</td>\n",
              "      <td>01 4, 2018</td>\n",
              "      <td>A1FOHYK23FJ6CN</td>\n",
              "      <td>B017O9P72A</td>\n",
              "      <td>L. Ray Humphreys</td>\n",
              "      <td>happy connect alexa regardless</td>\n",
              "      <td>Can not connect to ECHO</td>\n",
              "      <td>1515024000</td>\n",
              "      <td>2.0</td>\n",
              "      <td>NaN</td>\n",
              "      <td>47</td>\n",
              "    </tr>\n",
              "    <tr>\n",
              "      <th>3</th>\n",
              "      <td>1</td>\n",
              "      <td>False</td>\n",
              "      <td>12 30, 2017</td>\n",
              "      <td>A1RRDX9AOST1AN</td>\n",
              "      <td>B017O9P72A</td>\n",
              "      <td>Viola</td>\n",
              "      <td>connect hue light alexa linked lifx amazon ale...</td>\n",
              "      <td>Connecting is a no go</td>\n",
              "      <td>1514592000</td>\n",
              "      <td>5.0</td>\n",
              "      <td>NaN</td>\n",
              "      <td>204</td>\n",
              "    </tr>\n",
              "    <tr>\n",
              "      <th>4</th>\n",
              "      <td>1</td>\n",
              "      <td>False</td>\n",
              "      <td>12 29, 2017</td>\n",
              "      <td>AA4DHYT5YSSIT</td>\n",
              "      <td>B017O9P72A</td>\n",
              "      <td>angie anj</td>\n",
              "      <td>service work google home doesnt work alexa get...</td>\n",
              "      <td>Does not work</td>\n",
              "      <td>1514505600</td>\n",
              "      <td>5.0</td>\n",
              "      <td>NaN</td>\n",
              "      <td>112</td>\n",
              "    </tr>\n",
              "  </tbody>\n",
              "</table>\n",
              "</div>\n",
              "      <button class=\"colab-df-convert\" onclick=\"convertToInteractive('df-40b022eb-9f96-4f9e-a670-9bcbfd5bcf0f')\"\n",
              "              title=\"Convert this dataframe to an interactive table.\"\n",
              "              style=\"display:none;\">\n",
              "        \n",
              "  <svg xmlns=\"http://www.w3.org/2000/svg\" height=\"24px\"viewBox=\"0 0 24 24\"\n",
              "       width=\"24px\">\n",
              "    <path d=\"M0 0h24v24H0V0z\" fill=\"none\"/>\n",
              "    <path d=\"M18.56 5.44l.94 2.06.94-2.06 2.06-.94-2.06-.94-.94-2.06-.94 2.06-2.06.94zm-11 1L8.5 8.5l.94-2.06 2.06-.94-2.06-.94L8.5 2.5l-.94 2.06-2.06.94zm10 10l.94 2.06.94-2.06 2.06-.94-2.06-.94-.94-2.06-.94 2.06-2.06.94z\"/><path d=\"M17.41 7.96l-1.37-1.37c-.4-.4-.92-.59-1.43-.59-.52 0-1.04.2-1.43.59L10.3 9.45l-7.72 7.72c-.78.78-.78 2.05 0 2.83L4 21.41c.39.39.9.59 1.41.59.51 0 1.02-.2 1.41-.59l7.78-7.78 2.81-2.81c.8-.78.8-2.07 0-2.86zM5.41 20L4 18.59l7.72-7.72 1.47 1.35L5.41 20z\"/>\n",
              "  </svg>\n",
              "      </button>\n",
              "      \n",
              "  <style>\n",
              "    .colab-df-container {\n",
              "      display:flex;\n",
              "      flex-wrap:wrap;\n",
              "      gap: 12px;\n",
              "    }\n",
              "\n",
              "    .colab-df-convert {\n",
              "      background-color: #E8F0FE;\n",
              "      border: none;\n",
              "      border-radius: 50%;\n",
              "      cursor: pointer;\n",
              "      display: none;\n",
              "      fill: #1967D2;\n",
              "      height: 32px;\n",
              "      padding: 0 0 0 0;\n",
              "      width: 32px;\n",
              "    }\n",
              "\n",
              "    .colab-df-convert:hover {\n",
              "      background-color: #E2EBFA;\n",
              "      box-shadow: 0px 1px 2px rgba(60, 64, 67, 0.3), 0px 1px 3px 1px rgba(60, 64, 67, 0.15);\n",
              "      fill: #174EA6;\n",
              "    }\n",
              "\n",
              "    [theme=dark] .colab-df-convert {\n",
              "      background-color: #3B4455;\n",
              "      fill: #D2E3FC;\n",
              "    }\n",
              "\n",
              "    [theme=dark] .colab-df-convert:hover {\n",
              "      background-color: #434B5C;\n",
              "      box-shadow: 0px 1px 3px 1px rgba(0, 0, 0, 0.15);\n",
              "      filter: drop-shadow(0px 1px 2px rgba(0, 0, 0, 0.3));\n",
              "      fill: #FFFFFF;\n",
              "    }\n",
              "  </style>\n",
              "\n",
              "      <script>\n",
              "        const buttonEl =\n",
              "          document.querySelector('#df-40b022eb-9f96-4f9e-a670-9bcbfd5bcf0f button.colab-df-convert');\n",
              "        buttonEl.style.display =\n",
              "          google.colab.kernel.accessAllowed ? 'block' : 'none';\n",
              "\n",
              "        async function convertToInteractive(key) {\n",
              "          const element = document.querySelector('#df-40b022eb-9f96-4f9e-a670-9bcbfd5bcf0f');\n",
              "          const dataTable =\n",
              "            await google.colab.kernel.invokeFunction('convertToInteractive',\n",
              "                                                     [key], {});\n",
              "          if (!dataTable) return;\n",
              "\n",
              "          const docLinkHtml = 'Like what you see? Visit the ' +\n",
              "            '<a target=\"_blank\" href=https://colab.research.google.com/notebooks/data_table.ipynb>data table notebook</a>'\n",
              "            + ' to learn more about interactive tables.';\n",
              "          element.innerHTML = '';\n",
              "          dataTable['output_type'] = 'display_data';\n",
              "          await google.colab.output.renderOutput(dataTable, element);\n",
              "          const docLink = document.createElement('div');\n",
              "          docLink.innerHTML = docLinkHtml;\n",
              "          element.appendChild(docLink);\n",
              "        }\n",
              "      </script>\n",
              "    </div>\n",
              "  </div>\n",
              "  "
            ]
          },
          "metadata": {},
          "execution_count": 6
        }
      ]
    },
    {
      "cell_type": "code",
      "source": [
        "df.shape"
      ],
      "metadata": {
        "colab": {
          "base_uri": "https://localhost:8080/"
        },
        "id": "_hTol2f8q4V2",
        "outputId": "058550e8-033a-455b-9af9-7637e81e6cf5"
      },
      "execution_count": null,
      "outputs": [
        {
          "output_type": "execute_result",
          "data": {
            "text/plain": [
              "(15000, 12)"
            ]
          },
          "metadata": {},
          "execution_count": 7
        }
      ]
    },
    {
      "cell_type": "markdown",
      "source": [
        "Voy a validar si tengo NaN -->"
      ],
      "metadata": {
        "id": "JMehX4kWrGJB"
      }
    },
    {
      "cell_type": "code",
      "source": [
        "nan_counts = df.isna().sum()\n",
        "print(\"El número de NAs es \\n\", nan_counts)"
      ],
      "metadata": {
        "colab": {
          "base_uri": "https://localhost:8080/"
        },
        "id": "LZBCmb-Gq_0s",
        "outputId": "321ebb28-c419-467b-c554-9c61e74827a8"
      },
      "execution_count": null,
      "outputs": [
        {
          "output_type": "stream",
          "name": "stdout",
          "text": [
            "El número de NAs es \n",
            " overall               0\n",
            "verified              0\n",
            "reviewTime            0\n",
            "reviewerID            0\n",
            "asin                  0\n",
            "reviewerName          4\n",
            "reviewText           62\n",
            "summary              18\n",
            "unixReviewTime        0\n",
            "vote               7606\n",
            "image             14982\n",
            "review_length         0\n",
            "dtype: int64\n"
          ]
        }
      ]
    },
    {
      "cell_type": "markdown",
      "source": [
        "Elimino los NA de la columna de reviewText (son solo 62)"
      ],
      "metadata": {
        "id": "N-7SUF89sYlH"
      }
    },
    {
      "cell_type": "code",
      "source": [
        "df.dropna(subset=['reviewText'], inplace=True)"
      ],
      "metadata": {
        "id": "n4k9MOnIsfMu"
      },
      "execution_count": null,
      "outputs": []
    },
    {
      "cell_type": "code",
      "source": [
        "df.head(3)"
      ],
      "metadata": {
        "colab": {
          "base_uri": "https://localhost:8080/",
          "height": 294
        },
        "id": "6-YQMNEhtJPf",
        "outputId": "8310ad94-a56d-451a-ed6e-195831cf3514"
      },
      "execution_count": null,
      "outputs": [
        {
          "output_type": "execute_result",
          "data": {
            "text/plain": [
              "   overall  verified   reviewTime      reviewerID        asin  \\\n",
              "0        2     False   12 5, 2015  A3KUPJ396OQF78  B017O9P72A   \n",
              "1        5     False  01 15, 2018  A3TXR8GLKS19RE  B017O9P72A   \n",
              "2        1     False   01 4, 2018  A1FOHYK23FJ6CN  B017O9P72A   \n",
              "\n",
              "       reviewerName                         reviewText  \\\n",
              "0     Larry Russlin  control one two bulb one two echo   \n",
              "1             Nello                        great skill   \n",
              "2  L. Ray Humphreys     happy connect alexa regardless   \n",
              "\n",
              "                   summary  unixReviewTime  vote image  review_length  \n",
              "0                    Buggy      1449273600   NaN   NaN             55  \n",
              "1                    Great      1515974400   NaN   NaN             11  \n",
              "2  Can not connect to ECHO      1515024000   2.0   NaN             47  "
            ],
            "text/html": [
              "\n",
              "  <div id=\"df-20eaccf4-a1c3-4af6-9fbc-cce56b689f57\">\n",
              "    <div class=\"colab-df-container\">\n",
              "      <div>\n",
              "<style scoped>\n",
              "    .dataframe tbody tr th:only-of-type {\n",
              "        vertical-align: middle;\n",
              "    }\n",
              "\n",
              "    .dataframe tbody tr th {\n",
              "        vertical-align: top;\n",
              "    }\n",
              "\n",
              "    .dataframe thead th {\n",
              "        text-align: right;\n",
              "    }\n",
              "</style>\n",
              "<table border=\"1\" class=\"dataframe\">\n",
              "  <thead>\n",
              "    <tr style=\"text-align: right;\">\n",
              "      <th></th>\n",
              "      <th>overall</th>\n",
              "      <th>verified</th>\n",
              "      <th>reviewTime</th>\n",
              "      <th>reviewerID</th>\n",
              "      <th>asin</th>\n",
              "      <th>reviewerName</th>\n",
              "      <th>reviewText</th>\n",
              "      <th>summary</th>\n",
              "      <th>unixReviewTime</th>\n",
              "      <th>vote</th>\n",
              "      <th>image</th>\n",
              "      <th>review_length</th>\n",
              "    </tr>\n",
              "  </thead>\n",
              "  <tbody>\n",
              "    <tr>\n",
              "      <th>0</th>\n",
              "      <td>2</td>\n",
              "      <td>False</td>\n",
              "      <td>12 5, 2015</td>\n",
              "      <td>A3KUPJ396OQF78</td>\n",
              "      <td>B017O9P72A</td>\n",
              "      <td>Larry Russlin</td>\n",
              "      <td>control one two bulb one two echo</td>\n",
              "      <td>Buggy</td>\n",
              "      <td>1449273600</td>\n",
              "      <td>NaN</td>\n",
              "      <td>NaN</td>\n",
              "      <td>55</td>\n",
              "    </tr>\n",
              "    <tr>\n",
              "      <th>1</th>\n",
              "      <td>5</td>\n",
              "      <td>False</td>\n",
              "      <td>01 15, 2018</td>\n",
              "      <td>A3TXR8GLKS19RE</td>\n",
              "      <td>B017O9P72A</td>\n",
              "      <td>Nello</td>\n",
              "      <td>great skill</td>\n",
              "      <td>Great</td>\n",
              "      <td>1515974400</td>\n",
              "      <td>NaN</td>\n",
              "      <td>NaN</td>\n",
              "      <td>11</td>\n",
              "    </tr>\n",
              "    <tr>\n",
              "      <th>2</th>\n",
              "      <td>1</td>\n",
              "      <td>False</td>\n",
              "      <td>01 4, 2018</td>\n",
              "      <td>A1FOHYK23FJ6CN</td>\n",
              "      <td>B017O9P72A</td>\n",
              "      <td>L. Ray Humphreys</td>\n",
              "      <td>happy connect alexa regardless</td>\n",
              "      <td>Can not connect to ECHO</td>\n",
              "      <td>1515024000</td>\n",
              "      <td>2.0</td>\n",
              "      <td>NaN</td>\n",
              "      <td>47</td>\n",
              "    </tr>\n",
              "  </tbody>\n",
              "</table>\n",
              "</div>\n",
              "      <button class=\"colab-df-convert\" onclick=\"convertToInteractive('df-20eaccf4-a1c3-4af6-9fbc-cce56b689f57')\"\n",
              "              title=\"Convert this dataframe to an interactive table.\"\n",
              "              style=\"display:none;\">\n",
              "        \n",
              "  <svg xmlns=\"http://www.w3.org/2000/svg\" height=\"24px\"viewBox=\"0 0 24 24\"\n",
              "       width=\"24px\">\n",
              "    <path d=\"M0 0h24v24H0V0z\" fill=\"none\"/>\n",
              "    <path d=\"M18.56 5.44l.94 2.06.94-2.06 2.06-.94-2.06-.94-.94-2.06-.94 2.06-2.06.94zm-11 1L8.5 8.5l.94-2.06 2.06-.94-2.06-.94L8.5 2.5l-.94 2.06-2.06.94zm10 10l.94 2.06.94-2.06 2.06-.94-2.06-.94-.94-2.06-.94 2.06-2.06.94z\"/><path d=\"M17.41 7.96l-1.37-1.37c-.4-.4-.92-.59-1.43-.59-.52 0-1.04.2-1.43.59L10.3 9.45l-7.72 7.72c-.78.78-.78 2.05 0 2.83L4 21.41c.39.39.9.59 1.41.59.51 0 1.02-.2 1.41-.59l7.78-7.78 2.81-2.81c.8-.78.8-2.07 0-2.86zM5.41 20L4 18.59l7.72-7.72 1.47 1.35L5.41 20z\"/>\n",
              "  </svg>\n",
              "      </button>\n",
              "      \n",
              "  <style>\n",
              "    .colab-df-container {\n",
              "      display:flex;\n",
              "      flex-wrap:wrap;\n",
              "      gap: 12px;\n",
              "    }\n",
              "\n",
              "    .colab-df-convert {\n",
              "      background-color: #E8F0FE;\n",
              "      border: none;\n",
              "      border-radius: 50%;\n",
              "      cursor: pointer;\n",
              "      display: none;\n",
              "      fill: #1967D2;\n",
              "      height: 32px;\n",
              "      padding: 0 0 0 0;\n",
              "      width: 32px;\n",
              "    }\n",
              "\n",
              "    .colab-df-convert:hover {\n",
              "      background-color: #E2EBFA;\n",
              "      box-shadow: 0px 1px 2px rgba(60, 64, 67, 0.3), 0px 1px 3px 1px rgba(60, 64, 67, 0.15);\n",
              "      fill: #174EA6;\n",
              "    }\n",
              "\n",
              "    [theme=dark] .colab-df-convert {\n",
              "      background-color: #3B4455;\n",
              "      fill: #D2E3FC;\n",
              "    }\n",
              "\n",
              "    [theme=dark] .colab-df-convert:hover {\n",
              "      background-color: #434B5C;\n",
              "      box-shadow: 0px 1px 3px 1px rgba(0, 0, 0, 0.15);\n",
              "      filter: drop-shadow(0px 1px 2px rgba(0, 0, 0, 0.3));\n",
              "      fill: #FFFFFF;\n",
              "    }\n",
              "  </style>\n",
              "\n",
              "      <script>\n",
              "        const buttonEl =\n",
              "          document.querySelector('#df-20eaccf4-a1c3-4af6-9fbc-cce56b689f57 button.colab-df-convert');\n",
              "        buttonEl.style.display =\n",
              "          google.colab.kernel.accessAllowed ? 'block' : 'none';\n",
              "\n",
              "        async function convertToInteractive(key) {\n",
              "          const element = document.querySelector('#df-20eaccf4-a1c3-4af6-9fbc-cce56b689f57');\n",
              "          const dataTable =\n",
              "            await google.colab.kernel.invokeFunction('convertToInteractive',\n",
              "                                                     [key], {});\n",
              "          if (!dataTable) return;\n",
              "\n",
              "          const docLinkHtml = 'Like what you see? Visit the ' +\n",
              "            '<a target=\"_blank\" href=https://colab.research.google.com/notebooks/data_table.ipynb>data table notebook</a>'\n",
              "            + ' to learn more about interactive tables.';\n",
              "          element.innerHTML = '';\n",
              "          dataTable['output_type'] = 'display_data';\n",
              "          await google.colab.output.renderOutput(dataTable, element);\n",
              "          const docLink = document.createElement('div');\n",
              "          docLink.innerHTML = docLinkHtml;\n",
              "          element.appendChild(docLink);\n",
              "        }\n",
              "      </script>\n",
              "    </div>\n",
              "  </div>\n",
              "  "
            ]
          },
          "metadata": {},
          "execution_count": 10
        }
      ]
    },
    {
      "cell_type": "markdown",
      "source": [
        "Ahora, voy a dividir en Train, Test y Validation --> "
      ],
      "metadata": {
        "id": "5ajgbRlEZPT3"
      }
    },
    {
      "cell_type": "code",
      "source": [
        "# Importar train_test_split de scikit-learn\n",
        "from sklearn.model_selection import train_test_split\n",
        "\n",
        "# Dividir los datos en train y test\n",
        "X_train, X_test, y_train, y_test = train_test_split(df['reviewText'], df['overall'], test_size=0.3, random_state=5)\n",
        "\n",
        "# Dividir los datos de test en test y validate\n",
        "X_test, X_val, y_test, y_val = train_test_split(X_test, y_test, test_size=0.5, random_state=5)\n",
        "\n",
        "# Guardar los datos de validate en disco para usarse en la validación del modelo en el cuaderno 4\n",
        "X_val.to_csv('X_val.csv', index=False)\n",
        "y_val.to_csv('y_val.csv', index=False)\n",
        "X_train.to_csv('X_train.csv', index=False)\n",
        "y_train.to_csv('y_train.csv', index=False)"
      ],
      "metadata": {
        "id": "hio9e16flg6z"
      },
      "execution_count": null,
      "outputs": []
    },
    {
      "cell_type": "markdown",
      "source": [
        "## Iniciaré clasificando con un modelo multinomial de Naive Bayes"
      ],
      "metadata": {
        "id": "ik6hS1W7ysYI"
      }
    },
    {
      "cell_type": "markdown",
      "source": [
        "Defino un modelo pipeline para generar una matriz con las repeticiones de cada token y lo clasifico usando NB. "
      ],
      "metadata": {
        "id": "vPKCM06MoPWY"
      }
    },
    {
      "cell_type": "code",
      "source": [
        "#Genero el modelo Pipeline\n",
        "pipeline = Pipeline([\n",
        "    ('vect', CountVectorizer(max_features=5000)),\n",
        "    ('clf', MultinomialNB(alpha = 0.5)),\n",
        "])\n",
        "\n",
        "# Entreno el modelo\n",
        "pipeline.fit(X_train, y_train)"
      ],
      "metadata": {
        "colab": {
          "base_uri": "https://localhost:8080/",
          "height": 126
        },
        "id": "HlaYpjZFornz",
        "outputId": "b1f65821-6c31-4ad9-b845-132a4cef8c17"
      },
      "execution_count": null,
      "outputs": [
        {
          "output_type": "execute_result",
          "data": {
            "text/plain": [
              "Pipeline(steps=[('vect', CountVectorizer(max_features=5000)),\n",
              "                ('clf', MultinomialNB(alpha=0.5))])"
            ],
            "text/html": [
              "<style>#sk-container-id-1 {color: black;background-color: white;}#sk-container-id-1 pre{padding: 0;}#sk-container-id-1 div.sk-toggleable {background-color: white;}#sk-container-id-1 label.sk-toggleable__label {cursor: pointer;display: block;width: 100%;margin-bottom: 0;padding: 0.3em;box-sizing: border-box;text-align: center;}#sk-container-id-1 label.sk-toggleable__label-arrow:before {content: \"▸\";float: left;margin-right: 0.25em;color: #696969;}#sk-container-id-1 label.sk-toggleable__label-arrow:hover:before {color: black;}#sk-container-id-1 div.sk-estimator:hover label.sk-toggleable__label-arrow:before {color: black;}#sk-container-id-1 div.sk-toggleable__content {max-height: 0;max-width: 0;overflow: hidden;text-align: left;background-color: #f0f8ff;}#sk-container-id-1 div.sk-toggleable__content pre {margin: 0.2em;color: black;border-radius: 0.25em;background-color: #f0f8ff;}#sk-container-id-1 input.sk-toggleable__control:checked~div.sk-toggleable__content {max-height: 200px;max-width: 100%;overflow: auto;}#sk-container-id-1 input.sk-toggleable__control:checked~label.sk-toggleable__label-arrow:before {content: \"▾\";}#sk-container-id-1 div.sk-estimator input.sk-toggleable__control:checked~label.sk-toggleable__label {background-color: #d4ebff;}#sk-container-id-1 div.sk-label input.sk-toggleable__control:checked~label.sk-toggleable__label {background-color: #d4ebff;}#sk-container-id-1 input.sk-hidden--visually {border: 0;clip: rect(1px 1px 1px 1px);clip: rect(1px, 1px, 1px, 1px);height: 1px;margin: -1px;overflow: hidden;padding: 0;position: absolute;width: 1px;}#sk-container-id-1 div.sk-estimator {font-family: monospace;background-color: #f0f8ff;border: 1px dotted black;border-radius: 0.25em;box-sizing: border-box;margin-bottom: 0.5em;}#sk-container-id-1 div.sk-estimator:hover {background-color: #d4ebff;}#sk-container-id-1 div.sk-parallel-item::after {content: \"\";width: 100%;border-bottom: 1px solid gray;flex-grow: 1;}#sk-container-id-1 div.sk-label:hover label.sk-toggleable__label {background-color: #d4ebff;}#sk-container-id-1 div.sk-serial::before {content: \"\";position: absolute;border-left: 1px solid gray;box-sizing: border-box;top: 0;bottom: 0;left: 50%;z-index: 0;}#sk-container-id-1 div.sk-serial {display: flex;flex-direction: column;align-items: center;background-color: white;padding-right: 0.2em;padding-left: 0.2em;position: relative;}#sk-container-id-1 div.sk-item {position: relative;z-index: 1;}#sk-container-id-1 div.sk-parallel {display: flex;align-items: stretch;justify-content: center;background-color: white;position: relative;}#sk-container-id-1 div.sk-item::before, #sk-container-id-1 div.sk-parallel-item::before {content: \"\";position: absolute;border-left: 1px solid gray;box-sizing: border-box;top: 0;bottom: 0;left: 50%;z-index: -1;}#sk-container-id-1 div.sk-parallel-item {display: flex;flex-direction: column;z-index: 1;position: relative;background-color: white;}#sk-container-id-1 div.sk-parallel-item:first-child::after {align-self: flex-end;width: 50%;}#sk-container-id-1 div.sk-parallel-item:last-child::after {align-self: flex-start;width: 50%;}#sk-container-id-1 div.sk-parallel-item:only-child::after {width: 0;}#sk-container-id-1 div.sk-dashed-wrapped {border: 1px dashed gray;margin: 0 0.4em 0.5em 0.4em;box-sizing: border-box;padding-bottom: 0.4em;background-color: white;}#sk-container-id-1 div.sk-label label {font-family: monospace;font-weight: bold;display: inline-block;line-height: 1.2em;}#sk-container-id-1 div.sk-label-container {text-align: center;}#sk-container-id-1 div.sk-container {/* jupyter's `normalize.less` sets `[hidden] { display: none; }` but bootstrap.min.css set `[hidden] { display: none !important; }` so we also need the `!important` here to be able to override the default hidden behavior on the sphinx rendered scikit-learn.org. See: https://github.com/scikit-learn/scikit-learn/issues/21755 */display: inline-block !important;position: relative;}#sk-container-id-1 div.sk-text-repr-fallback {display: none;}</style><div id=\"sk-container-id-1\" class=\"sk-top-container\"><div class=\"sk-text-repr-fallback\"><pre>Pipeline(steps=[(&#x27;vect&#x27;, CountVectorizer(max_features=5000)),\n",
              "                (&#x27;clf&#x27;, MultinomialNB(alpha=0.5))])</pre><b>In a Jupyter environment, please rerun this cell to show the HTML representation or trust the notebook. <br />On GitHub, the HTML representation is unable to render, please try loading this page with nbviewer.org.</b></div><div class=\"sk-container\" hidden><div class=\"sk-item sk-dashed-wrapped\"><div class=\"sk-label-container\"><div class=\"sk-label sk-toggleable\"><input class=\"sk-toggleable__control sk-hidden--visually\" id=\"sk-estimator-id-1\" type=\"checkbox\" ><label for=\"sk-estimator-id-1\" class=\"sk-toggleable__label sk-toggleable__label-arrow\">Pipeline</label><div class=\"sk-toggleable__content\"><pre>Pipeline(steps=[(&#x27;vect&#x27;, CountVectorizer(max_features=5000)),\n",
              "                (&#x27;clf&#x27;, MultinomialNB(alpha=0.5))])</pre></div></div></div><div class=\"sk-serial\"><div class=\"sk-item\"><div class=\"sk-estimator sk-toggleable\"><input class=\"sk-toggleable__control sk-hidden--visually\" id=\"sk-estimator-id-2\" type=\"checkbox\" ><label for=\"sk-estimator-id-2\" class=\"sk-toggleable__label sk-toggleable__label-arrow\">CountVectorizer</label><div class=\"sk-toggleable__content\"><pre>CountVectorizer(max_features=5000)</pre></div></div></div><div class=\"sk-item\"><div class=\"sk-estimator sk-toggleable\"><input class=\"sk-toggleable__control sk-hidden--visually\" id=\"sk-estimator-id-3\" type=\"checkbox\" ><label for=\"sk-estimator-id-3\" class=\"sk-toggleable__label sk-toggleable__label-arrow\">MultinomialNB</label><div class=\"sk-toggleable__content\"><pre>MultinomialNB(alpha=0.5)</pre></div></div></div></div></div></div></div>"
            ]
          },
          "metadata": {},
          "execution_count": 12
        }
      ]
    },
    {
      "cell_type": "markdown",
      "source": [
        "Predigo los valores de y_pred con X_test"
      ],
      "metadata": {
        "id": "T_V0hbBtp6HA"
      }
    },
    {
      "cell_type": "code",
      "source": [
        "y_pred = pipeline.predict(X_test)\n",
        "y_pred\n"
      ],
      "metadata": {
        "colab": {
          "base_uri": "https://localhost:8080/"
        },
        "id": "GxkgBq0_p6Wy",
        "outputId": "0769ec4a-f05a-4bc3-e339-f6fd01cc57a2"
      },
      "execution_count": null,
      "outputs": [
        {
          "output_type": "execute_result",
          "data": {
            "text/plain": [
              "array([2, 5, 2, ..., 5, 5, 4])"
            ]
          },
          "metadata": {},
          "execution_count": 13
        }
      ]
    },
    {
      "cell_type": "markdown",
      "source": [
        "Quiero evaluar los resultados --> "
      ],
      "metadata": {
        "id": "VoI7r0o2uopU"
      }
    },
    {
      "cell_type": "code",
      "source": [
        "# Genero una matriz de confusión\n",
        "cm = confusion_matrix(y_test, y_pred)\n",
        "\n",
        "# Geenero un reporte de clasificación\n",
        "cr = classification_report(y_test, y_pred)\n",
        "\n",
        "# Obtengo el nivel de Accuracy\n",
        "acc = accuracy_score(y_test, y_pred)\n",
        "\n",
        "# imprimo matriz de confusión, el cr y el nivel de accuracy\n",
        "print(\"Matriz confusión:\")\n",
        "print(\"Importante!!! Cada columna representa el número de estrellas\")\n",
        "print(\"Así, la primera columna es 1 estrella y la última columna es 5 estrellas\")\n",
        "print(\"La diagonal es el número de aciertos\")\n",
        "print(\"Las filas representan la predicción (y_pred) y las columnas la realidad (y_test)\")\n",
        "print(cm)\n",
        "print(\"Reporte de clasificación:\")\n",
        "print(cr)\n",
        "print(f\"Accuracy: {acc:.4f}\")\n"
      ],
      "metadata": {
        "colab": {
          "base_uri": "https://localhost:8080/"
        },
        "id": "L1PEG-6Qum31",
        "outputId": "0e1ed455-ace2-461e-c6e3-976448c35fd4"
      },
      "execution_count": null,
      "outputs": [
        {
          "output_type": "stream",
          "name": "stdout",
          "text": [
            "Matriz confusión:\n",
            "Importante!!! Cada columna representa el número de estrellas\n",
            "Así, la primera columna es 1 estrella y la última columna es 5 estrellas\n",
            "La diagonal es el número de aciertos\n",
            "Las filas representan la predicción (y_pred) y las columnas la realidad (y_test)\n",
            "[[378  36  39  27  68]\n",
            " [ 91  33  27  25  42]\n",
            " [ 48  25  51  41  55]\n",
            " [ 35  13  37  56 166]\n",
            " [ 48  14  27  76 783]]\n",
            "Reporte de clasificación:\n",
            "              precision    recall  f1-score   support\n",
            "\n",
            "           1       0.63      0.69      0.66       548\n",
            "           2       0.27      0.15      0.19       218\n",
            "           3       0.28      0.23      0.25       220\n",
            "           4       0.25      0.18      0.21       307\n",
            "           5       0.70      0.83      0.76       948\n",
            "\n",
            "    accuracy                           0.58      2241\n",
            "   macro avg       0.43      0.42      0.42      2241\n",
            "weighted avg       0.54      0.58      0.56      2241\n",
            "\n",
            "Accuracy: 0.5805\n"
          ]
        }
      ]
    },
    {
      "cell_type": "markdown",
      "source": [
        "## Ahora trabajaré el modelo con Random Forest"
      ],
      "metadata": {
        "id": "Nit9jDchyTIN"
      }
    },
    {
      "cell_type": "code",
      "source": [
        "# Modelo Random Forest Classifier\n",
        "rfc_pipeline = Pipeline([\n",
        "    ('vectorizer', TfidfVectorizer()),\n",
        "    ('classifier', RandomForestClassifier(random_state=5))\n",
        "])\n",
        "\n",
        "# Parámetros del Grid\n",
        "rfc_parameters = {\n",
        "    'vectorizer__max_df': (0.5, 0.75, 1.0),\n",
        "    'vectorizer__ngram_range': ((1, 1), (1, 2)),\n",
        "    'classifier__n_estimators': [200, 500],\n",
        "    'classifier__max_depth': [10, 30, None]\n",
        "}\n",
        "\n",
        "# Clasificación de acuerdo al Grid \n",
        "rfc_grid = GridSearchCV(rfc_pipeline, rfc_parameters, cv=5, n_jobs=-1, verbose=1)\n",
        "rfc_grid.fit(X_train, y_train)\n",
        "\n",
        "# Predicción de los datos con X_test\n",
        "rfc_predictions = rfc_grid.predict(X_test)\n",
        "\n",
        "# Genero la matriz de confusióon\n",
        "rfc_cm = confusion_matrix(y_test, rfc_predictions)\n",
        "\n",
        "# Genero el reporte de clasificación\n",
        "rfc_cr = classification_report(y_test, rfc_predictions)\n",
        "\n",
        "# Calculo el Accuracy \n",
        "rfc_acc = accuracy_score(y_test, rfc_predictions)\n",
        "\n",
        "# Imprimo los resultados\n",
        "print(\"Evaluación de Random Forest Classifier:\")\n",
        "print(\"Matriz de confusión:\")\n",
        "print(rfc_cm)\n",
        "print(\"Reporte de clasificación:\")\n",
        "print(rfc_cr)\n",
        "print(f\"Accuracy: {rfc_acc:.4f}\")\n"
      ],
      "metadata": {
        "colab": {
          "base_uri": "https://localhost:8080/"
        },
        "id": "5ylQES7AzJnH",
        "outputId": "cb85d372-c59f-4a26-dc6f-e181c44f4b1a"
      },
      "execution_count": 16,
      "outputs": [
        {
          "metadata": {
            "tags": null
          },
          "name": "stdout",
          "output_type": "stream",
          "text": [
            "Fitting 5 folds for each of 36 candidates, totalling 180 fits\n"
          ]
        },
        {
          "output_type": "stream",
          "name": "stderr",
          "text": [
            "/usr/local/lib/python3.9/dist-packages/joblib/externals/loky/process_executor.py:700: UserWarning: A worker stopped while some jobs were given to the executor. This can be caused by a too short worker timeout or by a memory leak.\n",
            "  warnings.warn(\n"
          ]
        },
        {
          "output_type": "stream",
          "name": "stdout",
          "text": [
            "Evaluación de Random Forest Classifier:\n",
            "Matriz de confusión:\n",
            "[[422   3   4   2 117]\n",
            " [117   3   3   1  94]\n",
            " [ 87   1   7   9 116]\n",
            " [ 45   1   3  19 239]\n",
            " [ 63   0   1  13 871]]\n",
            "Reporte de clasificación:\n",
            "              precision    recall  f1-score   support\n",
            "\n",
            "           1       0.57      0.77      0.66       548\n",
            "           2       0.38      0.01      0.03       218\n",
            "           3       0.39      0.03      0.06       220\n",
            "           4       0.43      0.06      0.11       307\n",
            "           5       0.61      0.92      0.73       948\n",
            "\n",
            "    accuracy                           0.59      2241\n",
            "   macro avg       0.48      0.36      0.32      2241\n",
            "weighted avg       0.53      0.59      0.49      2241\n",
            "\n",
            "Accuracy: 0.5899\n"
          ]
        }
      ]
    },
    {
      "cell_type": "markdown",
      "source": [
        "Voy a hacer un nuevo intento, pues este toma más de dos horas en correr. Voy a sacar el vectorizer del pipeline, para reducir tiempo. "
      ],
      "metadata": {
        "id": "P2uJh3e-EZhe"
      }
    },
    {
      "cell_type": "code",
      "source": [
        "# Vectorize the data\n",
        "vectorizer = TfidfVectorizer(max_df=0.75, ngram_range=(1, 2))\n",
        "X_train_vectorized = vectorizer.fit_transform(X_train)\n",
        "X_test_vectorized = vectorizer.transform(X_test)\n",
        "\n",
        "# Modelo Random Forest Classifier\n",
        "rfc_pipeline = Pipeline([\n",
        "    ('classifier', RandomForestClassifier(random_state=5))\n",
        "])\n",
        "\n",
        "# Parámetros del Grid\n",
        "rfc_parameters = {\n",
        "    'classifier__n_estimators': [200, 500],\n",
        "    'classifier__max_depth': [10, 30, None]\n",
        "}\n",
        "\n",
        "# Clasificación de acuerdo al Grid \n",
        "rfc_grid = GridSearchCV(rfc_pipeline, rfc_parameters, cv=5, n_jobs=-1, verbose=1)\n",
        "rfc_grid.fit(X_train_vectorized, y_train)\n",
        "\n",
        "# Predicción de los datos con X_test\n",
        "rfc_predictions = rfc_grid.predict(X_test_vectorized)\n",
        "\n",
        "# Genero la matriz de confusióon\n",
        "rfc_cm = confusion_matrix(y_test, rfc_predictions)\n",
        "\n",
        "# Genero el reporte de clasificación\n",
        "rfc_cr = classification_report(y_test, rfc_predictions)\n",
        "\n",
        "# Calculo el Accuracy \n",
        "rfc_acc = accuracy_score(y_test, rfc_predictions)\n",
        "\n",
        "# Imprimo los resultados\n",
        "print(\"Evaluación de Random Forest Classifier:\")\n",
        "print(\"Matriz de confusión:\")\n",
        "print(rfc_cm)\n",
        "print(\"Reporte de clasificación:\")\n",
        "print(rfc_cr)\n",
        "print(f\"Accuracy: {rfc_acc:.4f}\")"
      ],
      "metadata": {
        "colab": {
          "base_uri": "https://localhost:8080/"
        },
        "id": "hl8eVuUmuFJf",
        "outputId": "505b92c1-55c0-49be-ed9c-27102cf04e31"
      },
      "execution_count": 30,
      "outputs": [
        {
          "output_type": "stream",
          "name": "stdout",
          "text": [
            "Fitting 5 folds for each of 6 candidates, totalling 30 fits\n"
          ]
        },
        {
          "output_type": "stream",
          "name": "stderr",
          "text": [
            "/usr/local/lib/python3.9/dist-packages/joblib/externals/loky/process_executor.py:700: UserWarning: A worker stopped while some jobs were given to the executor. This can be caused by a too short worker timeout or by a memory leak.\n",
            "  warnings.warn(\n"
          ]
        },
        {
          "output_type": "stream",
          "name": "stdout",
          "text": [
            "Evaluación de Random Forest Classifier:\n",
            "Matriz de confusión:\n",
            "[[434   1   2   2 109]\n",
            " [126   3   1   0  88]\n",
            " [ 80   1   3   3 133]\n",
            " [ 46   1   3   7 250]\n",
            " [ 61   0   0   9 878]]\n",
            "Reporte de clasificación:\n",
            "              precision    recall  f1-score   support\n",
            "\n",
            "           1       0.58      0.79      0.67       548\n",
            "           2       0.50      0.01      0.03       218\n",
            "           3       0.33      0.01      0.03       220\n",
            "           4       0.33      0.02      0.04       307\n",
            "           5       0.60      0.93      0.73       948\n",
            "\n",
            "    accuracy                           0.59      2241\n",
            "   macro avg       0.47      0.35      0.30      2241\n",
            "weighted avg       0.52      0.59      0.48      2241\n",
            "\n",
            "Accuracy: 0.5913\n"
          ]
        }
      ]
    },
    {
      "cell_type": "markdown",
      "source": [
        "Se redujo a 57 min. Bueno, algo es algo! "
      ],
      "metadata": {
        "id": "D1SZ4VkzEjnd"
      }
    },
    {
      "cell_type": "markdown",
      "source": [
        "Voy a comparar el comportamiento de ambos modelos --> "
      ],
      "metadata": {
        "id": "EqF7JUQSvlRv"
      }
    },
    {
      "cell_type": "code",
      "source": [
        "from sklearn.metrics import precision_score, recall_score, f1_score\n",
        "\n",
        "# Calcular predicciones para Naive Bayes\n",
        "y_pred_nb = y_pred\n",
        "\n",
        "# Calcular la precisión, recall y F1-score para Naive Bayes\n",
        "nb_precision_micro = precision_score(y_test, y_pred_nb, average='micro')\n",
        "nb_recall_micro = recall_score(y_test, y_pred_nb, average='micro')\n",
        "nb_f1_micro = f1_score(y_test, y_pred_nb, average='micro')\n",
        "nb_precision_macro = precision_score(y_test, y_pred_nb, average='macro')\n",
        "nb_recall_macro = recall_score(y_test, y_pred_nb, average='macro')\n",
        "nb_f1_macro = f1_score(y_test, y_pred_nb, average='macro')\n",
        "\n",
        "# Calcular predicciones para Random Forest Classifier\n",
        "y_pred_rfc = rfc_grid.predict(X_test_vectorized)\n",
        "#rfc_predictions = rfc_grid.predict(X_test_vectorized)\n",
        "\n",
        "# Calcular la precisión, recall y F1-score para Random Forest Classifier\n",
        "rfc_precision_micro = precision_score(y_test, y_pred_rfc, average='micro')\n",
        "rfc_recall_micro = recall_score(y_test, y_pred_rfc, average='micro')\n",
        "rfc_f1_micro = f1_score(y_test, y_pred_rfc, average='micro')\n",
        "rfc_precision_macro = precision_score(y_test, y_pred_rfc, average='macro')\n",
        "rfc_recall_macro = recall_score(y_test, y_pred_rfc, average='macro')\n",
        "rfc_f1_macro = f1_score(y_test, y_pred_rfc, average='macro')\n",
        "\n",
        "# Imprimir resultados\n",
        "print(\"Puntuaciones micro-averaged para Naive Bayes:\")\n",
        "print(f\"Precisión: {nb_precision_micro:.4f}\")\n",
        "print(f\"Recall: {nb_recall_micro:.4f}\")\n",
        "print(f\"F1-score: {nb_f1_micro:.4f}\")\n",
        "print(\"Puntuaciones macro-averaged para Naive Bayes:\")\n",
        "print(f\"Precisión: {nb_precision_macro:.4f}\")\n",
        "print(f\"Recall: {nb_recall_macro:.4f}\")\n",
        "print(f\"F1-score: {nb_f1_macro:.4f}\")\n",
        "\n",
        "print(\"\\nPuntuaciones micro-averaged para Random Forest Classifier:\")\n",
        "print(f\"Precisión: {rfc_precision_micro:.4f}\")\n",
        "print(f\"Recall: {rfc_recall_micro:.4f}\")\n",
        "print(f\"F1-score: {rfc_f1_micro:.4f}\")\n",
        "print(\"Puntuaciones macro-averaged para Random Forest Classifier:\")\n",
        "print(f\"Precisión: {rfc_precision_macro:.4f}\")\n",
        "print(f\"Recall: {rfc_recall_macro:.4f}\")\n",
        "print(f\"F1-score: {rfc_f1_macro:.4f}\")\n"
      ],
      "metadata": {
        "colab": {
          "base_uri": "https://localhost:8080/"
        },
        "id": "uGjK8nVZvqXa",
        "outputId": "23eca88e-cef4-4009-f897-7222e19a245a"
      },
      "execution_count": 31,
      "outputs": [
        {
          "output_type": "stream",
          "name": "stdout",
          "text": [
            "Puntuaciones micro-averaged para Naive Bayes:\n",
            "Precisión: 0.5805\n",
            "Recall: 0.5805\n",
            "F1-score: 0.5805\n",
            "Puntuaciones macro-averaged para Naive Bayes:\n",
            "Precisión: 0.4273\n",
            "Recall: 0.4163\n",
            "F1-score: 0.4155\n",
            "\n",
            "Puntuaciones micro-averaged para Random Forest Classifier:\n",
            "Precisión: 0.5913\n",
            "Recall: 0.5913\n",
            "F1-score: 0.5913\n",
            "Puntuaciones macro-averaged para Random Forest Classifier:\n",
            "Precisión: 0.4700\n",
            "Recall: 0.3537\n",
            "F1-score: 0.2992\n"
          ]
        }
      ]
    },
    {
      "cell_type": "markdown",
      "source": [
        "Después de evaluar ambos modelos, parece que el Random Forest Classifier es el método más efectivo para este proyecto, aún sin hacer un ajuste exhaustivo de los hiperparámetros. Aunque la precisión en ambos modelos es similar (0.5805 de Naive Bayes vs 0.5899 del Random Forest), el modelo Random Forest Classifier supera a Naive Bayes en términos de verdaderos positivos (Recall) con un valor de 0.35 en comparación con 0.41 de Random Forest. Es importante destacar que al estar más alejado de 0.5, el resultado del Recall en Random Forest Classifier es más significativo y se acerca más a la realidad. Aún falta explorar diferentes valores para los hiperparámetros."
      ],
      "metadata": {
        "id": "F-6k81-TyZAg"
      }
    },
    {
      "cell_type": "markdown",
      "source": [
        "Guardo el modelo Random Forest para el siguiente cuaderno --> "
      ],
      "metadata": {
        "id": "uZ4vgdMfbTKE"
      }
    },
    {
      "cell_type": "code",
      "source": [
        "# Guarda el modelo\n",
        "joblib.dump(rfc_grid, 'random_forest_model.pkl')"
      ],
      "metadata": {
        "colab": {
          "base_uri": "https://localhost:8080/"
        },
        "id": "mPgk4xBLbRaT",
        "outputId": "9ad578ba-d0a8-42ee-fbb2-cf7cd09f72b6"
      },
      "execution_count": 35,
      "outputs": [
        {
          "output_type": "execute_result",
          "data": {
            "text/plain": [
              "['random_forest_model.pkl']"
            ]
          },
          "metadata": {},
          "execution_count": 35
        }
      ]
    },
    {
      "cell_type": "code",
      "source": [
        "# Guardo el vectorizer en un fichero tipo .pkl\n",
        "joblib.dump(vectorizer, 'vectorizer.pkl')"
      ],
      "metadata": {
        "colab": {
          "base_uri": "https://localhost:8080/"
        },
        "id": "5lh28dA7Erpw",
        "outputId": "eb5a5ee6-c547-4c37-e31d-b43dac9f84f5"
      },
      "execution_count": 34,
      "outputs": [
        {
          "output_type": "execute_result",
          "data": {
            "text/plain": [
              "['vectorizer.pkl']"
            ]
          },
          "metadata": {},
          "execution_count": 34
        }
      ]
    }
  ]
}